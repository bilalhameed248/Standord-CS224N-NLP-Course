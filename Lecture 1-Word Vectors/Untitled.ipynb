{
 "cells": [
  {
   "cell_type": "code",
   "execution_count": 1,
   "id": "bd6cc0a0",
   "metadata": {},
   "outputs": [],
   "source": [
    "from nltk.corpus import wordnet as wn"
   ]
  },
  {
   "cell_type": "code",
   "execution_count": 2,
   "id": "e6b7f53b",
   "metadata": {},
   "outputs": [
    {
     "data": {
      "text/plain": [
       "{'n': 'noun', 'v': 'verb', 's': 'adj (s)', 'a': 'adj', 'r': 'adv'}"
      ]
     },
     "execution_count": 2,
     "metadata": {},
     "output_type": "execute_result"
    }
   ],
   "source": [
    "poses = { 'n':'noun', 'v':'verb', 's':'adj (s)', 'a':'adj', 'r':'adv'}\n",
    "poses"
   ]
  },
  {
   "cell_type": "code",
   "execution_count": 5,
   "id": "258ad63b",
   "metadata": {},
   "outputs": [
    {
     "name": "stderr",
     "output_type": "stream",
     "text": [
      "[nltk_data] Downloading package omw-1.4 to\n",
      "[nltk_data]     C:\\Users\\Bilal\\AppData\\Roaming\\nltk_data...\n"
     ]
    },
    {
     "data": {
      "text/plain": [
       "True"
      ]
     },
     "execution_count": 5,
     "metadata": {},
     "output_type": "execute_result"
    }
   ],
   "source": [
    "import nltk\n",
    "nltk.download('omw-1.4')"
   ]
  },
  {
   "cell_type": "markdown",
   "id": "d7b81fe5",
   "metadata": {},
   "source": [
    "## e.g., synonym sets containing “good”:"
   ]
  },
  {
   "cell_type": "code",
   "execution_count": 16,
   "id": "94293f39",
   "metadata": {},
   "outputs": [
    {
     "name": "stdout",
     "output_type": "stream",
     "text": [
      "synset: Synset('good.n.01'), \n",
      " synset.pos:n, \n",
      " noun, \n",
      " [Lemma('good.n.01.good')] \n",
      "\n",
      "*********************\n",
      "synset: Synset('good.n.02'), \n",
      " synset.pos:n, \n",
      " noun, \n",
      " [Lemma('good.n.02.good'), Lemma('good.n.02.goodness')] \n",
      "\n",
      "*********************\n",
      "synset: Synset('good.n.03'), \n",
      " synset.pos:n, \n",
      " noun, \n",
      " [Lemma('good.n.03.good'), Lemma('good.n.03.goodness')] \n",
      "\n",
      "*********************\n",
      "synset: Synset('commodity.n.01'), \n",
      " synset.pos:n, \n",
      " noun, \n",
      " [Lemma('commodity.n.01.commodity'), Lemma('commodity.n.01.trade_good'), Lemma('commodity.n.01.good')] \n",
      "\n",
      "*********************\n",
      "synset: Synset('good.a.01'), \n",
      " synset.pos:a, \n",
      " adj, \n",
      " [Lemma('good.a.01.good')] \n",
      "\n",
      "*********************\n",
      "synset: Synset('full.s.06'), \n",
      " synset.pos:s, \n",
      " adj (s), \n",
      " [Lemma('full.s.06.full'), Lemma('full.s.06.good')] \n",
      "\n",
      "*********************\n",
      "synset: Synset('good.a.03'), \n",
      " synset.pos:a, \n",
      " adj, \n",
      " [Lemma('good.a.03.good')] \n",
      "\n",
      "*********************\n",
      "synset: Synset('estimable.s.02'), \n",
      " synset.pos:s, \n",
      " adj (s), \n",
      " [Lemma('estimable.s.02.estimable'), Lemma('estimable.s.02.good'), Lemma('estimable.s.02.honorable'), Lemma('estimable.s.02.respectable')] \n",
      "\n",
      "*********************\n",
      "synset: Synset('beneficial.s.01'), \n",
      " synset.pos:s, \n",
      " adj (s), \n",
      " [Lemma('beneficial.s.01.beneficial'), Lemma('beneficial.s.01.good')] \n",
      "\n",
      "*********************\n",
      "synset: Synset('good.s.06'), \n",
      " synset.pos:s, \n",
      " adj (s), \n",
      " [Lemma('good.s.06.good')] \n",
      "\n",
      "*********************\n",
      "synset: Synset('good.s.07'), \n",
      " synset.pos:s, \n",
      " adj (s), \n",
      " [Lemma('good.s.07.good'), Lemma('good.s.07.just'), Lemma('good.s.07.upright')] \n",
      "\n",
      "*********************\n",
      "synset: Synset('adept.s.01'), \n",
      " synset.pos:s, \n",
      " adj (s), \n",
      " [Lemma('adept.s.01.adept'), Lemma('adept.s.01.expert'), Lemma('adept.s.01.good'), Lemma('adept.s.01.practiced'), Lemma('adept.s.01.proficient'), Lemma('adept.s.01.skillful'), Lemma('adept.s.01.skilful')] \n",
      "\n",
      "*********************\n",
      "synset: Synset('good.s.09'), \n",
      " synset.pos:s, \n",
      " adj (s), \n",
      " [Lemma('good.s.09.good')] \n",
      "\n",
      "*********************\n",
      "synset: Synset('dear.s.02'), \n",
      " synset.pos:s, \n",
      " adj (s), \n",
      " [Lemma('dear.s.02.dear'), Lemma('dear.s.02.good'), Lemma('dear.s.02.near')] \n",
      "\n",
      "*********************\n",
      "synset: Synset('dependable.s.04'), \n",
      " synset.pos:s, \n",
      " adj (s), \n",
      " [Lemma('dependable.s.04.dependable'), Lemma('dependable.s.04.good'), Lemma('dependable.s.04.safe'), Lemma('dependable.s.04.secure')] \n",
      "\n",
      "*********************\n",
      "synset: Synset('good.s.12'), \n",
      " synset.pos:s, \n",
      " adj (s), \n",
      " [Lemma('good.s.12.good'), Lemma('good.s.12.right'), Lemma('good.s.12.ripe')] \n",
      "\n",
      "*********************\n",
      "synset: Synset('good.s.13'), \n",
      " synset.pos:s, \n",
      " adj (s), \n",
      " [Lemma('good.s.13.good'), Lemma('good.s.13.well')] \n",
      "\n",
      "*********************\n",
      "synset: Synset('effective.s.04'), \n",
      " synset.pos:s, \n",
      " adj (s), \n",
      " [Lemma('effective.s.04.effective'), Lemma('effective.s.04.good'), Lemma('effective.s.04.in_effect'), Lemma('effective.s.04.in_force')] \n",
      "\n",
      "*********************\n",
      "synset: Synset('good.s.15'), \n",
      " synset.pos:s, \n",
      " adj (s), \n",
      " [Lemma('good.s.15.good')] \n",
      "\n",
      "*********************\n",
      "synset: Synset('good.s.16'), \n",
      " synset.pos:s, \n",
      " adj (s), \n",
      " [Lemma('good.s.16.good'), Lemma('good.s.16.serious')] \n",
      "\n",
      "*********************\n",
      "synset: Synset('good.s.17'), \n",
      " synset.pos:s, \n",
      " adj (s), \n",
      " [Lemma('good.s.17.good'), Lemma('good.s.17.sound')] \n",
      "\n",
      "*********************\n",
      "synset: Synset('good.s.18'), \n",
      " synset.pos:s, \n",
      " adj (s), \n",
      " [Lemma('good.s.18.good'), Lemma('good.s.18.salutary')] \n",
      "\n",
      "*********************\n",
      "synset: Synset('good.s.19'), \n",
      " synset.pos:s, \n",
      " adj (s), \n",
      " [Lemma('good.s.19.good'), Lemma('good.s.19.honest')] \n",
      "\n",
      "*********************\n",
      "synset: Synset('good.s.20'), \n",
      " synset.pos:s, \n",
      " adj (s), \n",
      " [Lemma('good.s.20.good'), Lemma('good.s.20.undecomposed'), Lemma('good.s.20.unspoiled'), Lemma('good.s.20.unspoilt')] \n",
      "\n",
      "*********************\n",
      "synset: Synset('good.s.21'), \n",
      " synset.pos:s, \n",
      " adj (s), \n",
      " [Lemma('good.s.21.good')] \n",
      "\n",
      "*********************\n",
      "synset: Synset('well.r.01'), \n",
      " synset.pos:r, \n",
      " adv, \n",
      " [Lemma('well.r.01.well'), Lemma('well.r.01.good')] \n",
      "\n",
      "*********************\n",
      "synset: Synset('thoroughly.r.02'), \n",
      " synset.pos:r, \n",
      " adv, \n",
      " [Lemma('thoroughly.r.02.thoroughly'), Lemma('thoroughly.r.02.soundly'), Lemma('thoroughly.r.02.good')] \n",
      "\n",
      "*********************\n"
     ]
    }
   ],
   "source": [
    "for synset in wn.synsets(\"good\"):\n",
    "    print(f\"synset: {synset}, \\n synset.pos:{synset.pos()}, \\n {poses[synset.pos()]}, \\n {synset.lemmas()} \\n\\n*********************\")"
   ]
  },
  {
   "cell_type": "code",
   "execution_count": 10,
   "id": "2980b87d",
   "metadata": {},
   "outputs": [
    {
     "name": "stdout",
     "output_type": "stream",
     "text": [
      "noun: good\n",
      "noun: good, goodness\n",
      "noun: good, goodness\n",
      "noun: commodity, trade_good, good\n",
      "adj: good\n",
      "adj (s): full, good\n",
      "adj: good\n",
      "adj (s): estimable, good, honorable, respectable\n",
      "adj (s): beneficial, good\n",
      "adj (s): good\n",
      "adj (s): good, just, upright\n",
      "adj (s): adept, expert, good, practiced, proficient, skillful, skilful\n",
      "adj (s): good\n",
      "adj (s): dear, good, near\n",
      "adj (s): dependable, good, safe, secure\n",
      "adj (s): good, right, ripe\n",
      "adj (s): good, well\n",
      "adj (s): effective, good, in_effect, in_force\n",
      "adj (s): good\n",
      "adj (s): good, serious\n",
      "adj (s): good, sound\n",
      "adj (s): good, salutary\n",
      "adj (s): good, honest\n",
      "adj (s): good, undecomposed, unspoiled, unspoilt\n",
      "adj (s): good\n",
      "adv: well, good\n",
      "adv: thoroughly, soundly, good\n"
     ]
    }
   ],
   "source": [
    "for synset in wn.synsets(\"good\"):\n",
    "    print(f\"{poses[synset.pos()]}: {', '.join([l.name() for l in synset.lemmas()])}\")"
   ]
  },
  {
   "cell_type": "markdown",
   "id": "1cd2916b",
   "metadata": {},
   "source": [
    "## e.g., hypernyms of “panda”:"
   ]
  },
  {
   "cell_type": "code",
   "execution_count": 20,
   "id": "00fe52a2",
   "metadata": {},
   "outputs": [
    {
     "data": {
      "text/plain": [
       "[Synset('angiosperm.n.01'),\n",
       " Synset('spermatophyte.n.01'),\n",
       " Synset('vascular_plant.n.01'),\n",
       " Synset('plant.n.02'),\n",
       " Synset('organism.n.01'),\n",
       " Synset('living_thing.n.01'),\n",
       " Synset('whole.n.02'),\n",
       " Synset('object.n.01'),\n",
       " Synset('physical_entity.n.01'),\n",
       " Synset('entity.n.01')]"
      ]
     },
     "execution_count": 20,
     "metadata": {},
     "output_type": "execute_result"
    }
   ],
   "source": [
    "from nltk.corpus import wordnet as wn\n",
    "panda = wn.synset(\"flower.n.01\")\n",
    "hyper = lambda s: s.hypernyms()\n",
    "list(panda.closure(hyper))"
   ]
  },
  {
   "cell_type": "code",
   "execution_count": null,
   "id": "3d18cbec",
   "metadata": {},
   "outputs": [],
   "source": []
  }
 ],
 "metadata": {
  "kernelspec": {
   "display_name": "Python 3 (ipykernel)",
   "language": "python",
   "name": "python3"
  },
  "language_info": {
   "codemirror_mode": {
    "name": "ipython",
    "version": 3
   },
   "file_extension": ".py",
   "mimetype": "text/x-python",
   "name": "python",
   "nbconvert_exporter": "python",
   "pygments_lexer": "ipython3",
   "version": "3.7.11"
  }
 },
 "nbformat": 4,
 "nbformat_minor": 5
}
